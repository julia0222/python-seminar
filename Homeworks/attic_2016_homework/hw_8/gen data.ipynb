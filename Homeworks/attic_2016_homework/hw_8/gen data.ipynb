{
 "cells": [
  {
   "cell_type": "code",
   "execution_count": 82,
   "metadata": {},
   "outputs": [],
   "source": [
    "import numpy as np"
   ]
  },
  {
   "cell_type": "code",
   "execution_count": 83,
   "metadata": {},
   "outputs": [],
   "source": [
    "num_objects = 2"
   ]
  },
  {
   "cell_type": "code",
   "execution_count": 84,
   "metadata": {},
   "outputs": [],
   "source": [
    "rue_motion_parameters = [{\"loc_0\": (1.3, 1.0), \"vel\": (0.1,-0.8)},\n",
    "                          {\"loc_0\": (1.1, -1.3), \"vel\": (0.1,0.8)}]"
   ]
  },
  {
   "cell_type": "code",
   "execution_count": 85,
   "metadata": {},
   "outputs": [],
   "source": [
    "observed_parameters = [{\"color\": \"red\", \"err\": 0.020},\n",
    "                       {\"color\": \"blue\", \"err\": 0.050}]\n",
    "n_obs = 500"
   ]
  },
  {
   "cell_type": "code",
   "execution_count": 86,
   "metadata": {},
   "outputs": [],
   "source": [
    "%matplotlib inline\n",
    "import matplotlib.pyplot as plt"
   ]
  },
  {
   "cell_type": "code",
   "execution_count": 93,
   "metadata": {},
   "outputs": [
    {
     "data": {
      "text/plain": [
       "array([  1.7183969 ,   2.99805595,   6.01507321,   8.26765107,\n",
       "         9.27932066,  10.27991777,  11.83396172,  14.01714165,\n",
       "        15.35044307,  17.37663346])"
      ]
     },
     "execution_count": 93,
     "metadata": {},
     "output_type": "execute_result"
    }
   ],
   "source": [
    "np.random.seed(43)\n",
    "s = np.random.standard_cauchy(n_obs) + np.random.normal(scale=0.05,size=n_obs)\n",
    "s = (s[(s>0) & (s<50)] + 1)\n",
    "delta_time = s\n",
    "times = delta_time.cumsum()\n",
    "times[:10]"
   ]
  },
  {
   "cell_type": "code",
   "execution_count": 94,
   "metadata": {},
   "outputs": [],
   "source": [
    "true_positions = []\n",
    "obs_positions = []\n",
    "for obj, obs in zip(true_motion_parameters,observed_parameters):\n",
    "    x = times*obj[\"vel\"][0]/365.25 + obj[\"loc_0\"][0]\n",
    "    y = times*obj[\"vel\"][1]/365.25 + obj[\"loc_0\"][1]\n",
    "    true_positions.append((x,y))\n",
    "    obs_positions.append((x + np.random.normal(scale=obs[\"err\"],size=len(times)),y + np.random.normal(scale=obs[\"err\"],size=len(times))))"
   ]
  },
  {
   "cell_type": "code",
   "execution_count": 95,
   "metadata": {},
   "outputs": [
    {
     "data": {
      "text/plain": [
       "Text(0,0.5,'y position')"
      ]
     },
     "execution_count": 95,
     "metadata": {},
     "output_type": "execute_result"
    },
    {
     "data": {
      "image/png": "[encoded data removed]",
      "text/plain": [
       "<matplotlib.figure.Figure at 0x1192753c8>"
      ]
     },
     "metadata": {},
     "output_type": "display_data"
    }
   ],
   "source": [
    "plt.scatter(obs_positions[0][0], obs_positions[0][1],c=observed_parameters[0][\"color\"])\n",
    "plt.scatter(obs_positions[1][0], obs_positions[1][1],c=observed_parameters[1][\"color\"])\n",
    "plt.xlabel(\"X position\")\n",
    "plt.ylabel(\"y position\")"
   ]
  },
  {
   "cell_type": "code",
   "execution_count": 96,
   "metadata": {},
   "outputs": [],
   "source": [
    "import pandas as pd"
   ]
  },
  {
   "cell_type": "code",
   "execution_count": 97,
   "metadata": {},
   "outputs": [],
   "source": [
    "df = pd.DataFrame()"
   ]
  },
  {
   "cell_type": "code",
   "execution_count": 98,
   "metadata": {},
   "outputs": [],
   "source": [
    "df[\"red_pos_X\"] = obs_positions[0][0]\n",
    "df[\"red_pos_Y\"] = obs_positions[0][1]\n",
    "df[\"blue_pos_X\"] = obs_positions[1][0]\n",
    "df[\"blue_pos_Y\"] = obs_positions[1][1]\n",
    "df[\"t\"] = times\n",
    "df = df.set_index(\"t\")"
   ]
  },
  {
   "cell_type": "code",
   "execution_count": 99,
   "metadata": {},
   "outputs": [],
   "source": [
    "df.to_csv(\"location_data_hw9_2018.csv\",index_label=\"t\")"
   ]
  },
  {
   "cell_type": "code",
   "execution_count": 100,
   "metadata": {},
   "outputs": [
    {
     "name": "stdout",
     "output_type": "stream",
     "text": [
      "t,red_pos_X,red_pos_Y,blue_pos_X,blue_pos_Y\r\n",
      "1.718396903641703,1.3301735961457015,0.9935642451774511,1.081699834012192,-1.2959179751031422\r\n",
      "2.998055954146877,1.310404431547636,1.0127720792761834,1.0049968450436904,-1.2543940232315547\r\n",
      "6.01507321358367,1.2703120369866738,1.0283862739184186,1.1136959029978442,-1.3212565699300398\r\n",
      "8.26765107217987,1.3311306313337534,0.9482227142755478,1.0018453465563593,-1.2852085972439224\r\n",
      "9.279320656039637,1.346158981620144,0.9634850225184447,1.1130075799398527,-1.261146559950236\r\n",
      "10.27991777117844,1.3251398456423034,0.9767830889088128,1.0819956950560674,-1.201582393648549\r\n",
      "11.833961719611134,1.3171628558935138,0.9258395176615511,1.1179585370878828,-1.2835179688768672\r\n",
      "14.017141647789263,1.337333069009279,0.9471139377514582,1.1531431458772692,-1.2454995839654792\r\n",
      "15.350443066599395,1.2938029456756,0.9807903538244169,1.056927585327275,-1.2616519917771667\r\n"
     ]
    }
   ],
   "source": [
    "!head location_data_hw9_2018.csv"
   ]
  },
  {
   "cell_type": "code",
   "execution_count": 102,
   "metadata": {},
   "outputs": [
    {
     "name": "stdout",
     "output_type": "stream",
     "text": [
      "/Users/jbloom/Classes/python-seminar/Homeworks/attic_2016_homework/hw_8\r\n"
     ]
    }
   ],
   "source": [
    "!pwd"
   ]
  },
  {
   "cell_type": "code",
   "execution_count": null,
   "metadata": {},
   "outputs": [],
   "source": []
  }
 ],
 "metadata": {
  "kernelspec": {
   "display_name": "Python 3",
   "language": "python",
   "name": "python3"
  },
  "language_info": {
   "codemirror_mode": {
    "name": "ipython",
    "version": 3
   },
   "file_extension": ".py",
   "mimetype": "text/x-python",
   "name": "python",
   "nbconvert_exporter": "python",
   "pygments_lexer": "ipython3",
   "version": "3.6.4"
  }
 },
 "nbformat": 4,
 "nbformat_minor": 1
}
