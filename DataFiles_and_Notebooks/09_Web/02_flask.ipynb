{
 "cells": [
  {
   "cell_type": "markdown",
   "metadata": {},
   "source": [
    "<img src=\"imgs/frameworks.png\">\n",
    "http://www.youtube.com/watch?v=AYjPIMe0BhA"
   ]
  },
  {
   "cell_type": "markdown",
   "metadata": {},
   "source": [
    "<img src=\"imgs/flask.png\">"
   ]
  },
  {
   "cell_type": "code",
   "execution_count": 4,
   "metadata": {},
   "outputs": [
    {
     "name": "stdout",
     "output_type": "stream",
     "text": [
      "Overwriting fhello.py\n"
     ]
    }
   ],
   "source": [
    "%%writefile fhello.py\n",
    "from flask import Flask\n",
    "app = Flask(__name__)\n",
    "\n",
    "@app.route(\"/\")\n",
    "def hello():\n",
    "    return \"Hello World, for real!\"\n",
    "\n",
    "if __name__ == \"__main__\":\n",
    "    app.run()"
   ]
  },
  {
   "cell_type": "code",
   "execution_count": 5,
   "metadata": {},
   "outputs": [
    {
     "name": "stderr",
     "output_type": "stream",
     "text": [
      " * Running on http://127.0.0.1:5000/ (Press CTRL+C to quit)\n",
      "127.0.0.1 - - [09/Apr/2018 15:00:57] \"GET / HTTP/1.1\" 200 -\n"
     ]
    }
   ],
   "source": [
    "%run fhello.py "
   ]
  },
  {
   "cell_type": "markdown",
   "metadata": {},
   "source": [
    "### URL Route Registration\n",
    "\n",
    "Where users can go to get things on your site\n",
    "using “view decorators” of “view functions”\n",
    "\n",
    "```python\n",
    "\n",
    "@app.route('/')\n",
    "....\n",
    "@app.route('/hello')\n",
    "...\n",
    "@app.route('/user/<username>')\n",
    "def show_user_profile(username):\n",
    "    return 'User %s' % username\n",
    "\n",
    "@app.route('/post/<int:post_id>')\n",
    "def show_post(post_id):\n",
    "    return 'Post %d' % post_id\n",
    "```"
   ]
  },
  {
   "cell_type": "code",
   "execution_count": null,
   "metadata": {},
   "outputs": [],
   "source": [
    "# %load urls.py\n",
    "from flask import Flask\n",
    "\n",
    "app = Flask(__name__)\n",
    "app.debug = True\n",
    "\n",
    "## this will route / and /hello \n",
    "## the function \"hi()\" is called a \"view function\"\n",
    "@app.route(\"/\")\n",
    "@app.route('/hello')\n",
    "def hi():\n",
    "    return \"<font color='red'>Hello!</font>\"\n",
    "\n",
    "## this will route URLs like: /user/josh \n",
    "@app.route('/user/<username>')\n",
    "def show_user_profile(username):\n",
    "    return 'hello, username =  %s' % username\n",
    "\n",
    "## this will route URLs like: /post/1234\n",
    "@app.route('/post/<int:post_id>')\n",
    "def show_post(post_id):\n",
    "    return 'Post # = %d' % post_id\n",
    "\n",
    "# here we show off multiple input and defaults\n",
    "@app.route(\"/doc/<int:docid>/page/<int:pageid>\")\n",
    "@app.route(\"/doc/<int:docid>\", defaults={'pageid': 10})\n",
    "def show_document_pages(docid,pageid):\n",
    "    return \"Doc = %i  and Page = %i\" % (docid,pageid)\n",
    "\n",
    "## a different way to add URL rules\n",
    "## this connects the function hi() to the url /hola\n",
    "## nice thing by doing it this way is that you could see all your\n",
    "## mappings in one place\n",
    "app.add_url_rule('/hola', \"say_hola\", hi)\n",
    "\n",
    "if __name__ == \"__main__\":\n",
    "    app.run()"
   ]
  },
  {
   "cell_type": "code",
   "execution_count": 7,
   "metadata": {},
   "outputs": [
    {
     "name": "stderr",
     "output_type": "stream",
     "text": [
      " * Running on http://127.0.0.1:5000/ (Press CTRL+C to quit)\n",
      " * Restarting with stat\n"
     ]
    }
   ],
   "source": [
    "%run urls.py"
   ]
  },
  {
   "cell_type": "markdown",
   "metadata": {},
   "source": [
    "### HTTP Methods\n",
    "\n",
    "```python\n",
    "@app.route('/login', methods=['GET', 'POST'])\n",
    "def login():\n",
    "    if request.method == 'POST':\n",
    "        do_the_login()\n",
    "    else:\n",
    "        show_the_login_form()\n",
    "```"
   ]
  },
  {
   "cell_type": "code",
   "execution_count": 13,
   "metadata": {},
   "outputs": [
    {
     "name": "stdout",
     "output_type": "stream",
     "text": [
      "from flask import Flask, redirect, request, url_for\r\n",
      "from flask import current_app\r\n",
      "\r\n",
      "app = Flask(\"Dan\")\r\n",
      "app.debug = True\r\n",
      "\r\n",
      "def debug():\r\n",
      "    assert current_app.debug == False, \"Don't panic! You're here by request of debug()\"\r\n",
      "\r\n",
      "## we can tell our view functions what HTTP methods it\r\n",
      "## is allowed to respond to\r\n",
      "@app.route('/login', methods=['GET', 'POST'])\r\n",
      "def login():\r\n",
      "    if request.method == 'POST':\r\n",
      "        return \"performing the log in\"\r\n",
      "    else:\r\n",
      "    \t## this is a normal GET request\r\n",
      "        # debug()\r\n",
      "        return \"please log in...\"\r\n",
      "\r\n",
      "@app.route(\"/\")\r\n",
      "@app.route(\"/index.html\")\r\n",
      "def redirect_to_login():\r\n",
      "\t## 301 is an HTTP error code\r\n",
      "\treturn redirect(\"/login\",301)\r\n",
      "\r\n",
      "#app.run()\r\n",
      "if __name__ == \"__main__\":\r\n",
      "    app.run()\r\n"
     ]
    }
   ],
   "source": [
    "!cat methods.py"
   ]
  },
  {
   "cell_type": "markdown",
   "metadata": {},
   "source": [
    "### Forms\n",
    "\n",
    "but it’s annoying to have to put HTML into Python (see `form1.py` file)...\n",
    "\n",
    "```python\n",
    "@app.route('/welcome', methods=['GET', 'POST'])\n",
    "def welcomehi():\n",
    "\n",
    "    if request.method == 'POST':\n",
    "\t    username = request.form['name']\n",
    "\t    if username not in (\"\",\" \",None):\n",
    "\t    \treturn \"Hey %s, what's up?\" % username\n",
    "\t    else:\n",
    "\t    \treturn \"\"\"We really want to know your name. Add it \n",
    "\t    \t          <a href='%s'>here</a>\"\"\" % url_for(\"welcomehi\")\n",
    "    else:\n",
    "    \t## this is a normal GET request\n",
    "        return '''\n",
    "            <form action=\"welcome\" method=\"POST\">\n",
    "            What is your name?\n",
    "            <input type=\"text\" name=\"name\" />\n",
    "            <input type=\"submit\" />\n",
    "            </form>''\n",
    "```"
   ]
  },
  {
   "cell_type": "code",
   "execution_count": null,
   "metadata": {},
   "outputs": [],
   "source": [
    "# %load form1.py\n",
    "from flask import Flask, redirect, request, url_for\n",
    "\n",
    "app = Flask(__name__)\n",
    "app.debug = True\n",
    "\n",
    "## we can tell our view functions what HTTP methods it\n",
    "## is allowed to respond to\n",
    "@app.route('/welcome', methods=['GET', 'POST'])\n",
    "def welcomehi():\n",
    "\n",
    "    if request.method == 'POST':\n",
    "\t    username = request.form['name']\n",
    "\t    if username not in (\"\",\" \",None):\n",
    "\t    \treturn \"Hey %s, what's up?\" % username\n",
    "\t    else:\n",
    "\t    \treturn \"\"\"We really want to know your name. Add it \n",
    "\t    \t          <a href='%s'>here</a>\"\"\" % url_for(\"welcomehi\")\n",
    "    else:\n",
    "    \t## this is a normal GET request\n",
    "        return '''\n",
    "            <form action=\"welcome\" method=\"POST\">\n",
    "            What is your name?\n",
    "            <input type=\"text\" name=\"name\" />\n",
    "            <input type=\"submit\" />\n",
    "            </form>'''\n",
    "\n",
    "@app.route(\"/\")\n",
    "def redirect_to_login():\n",
    "\t## 301 is an HTTP error code\n",
    "\treturn redirect(url_for(\"welcomehi\"),301)\n",
    "\n",
    "if __name__ == \"__main__\":\n",
    "    app.run()"
   ]
  },
  {
   "cell_type": "markdown",
   "metadata": {},
   "source": [
    "## Templates\n",
    "\n",
    "What users see. You need to know HTML to make these.\n",
    "\n",
    "`templates/base.html`\n",
    "```html\n",
    "<!DOCTYPE html>\n",
    "<html>\n",
    "    <head>\n",
    "        <title>My Super Site</title>\n",
    "    </head>\n",
    "    \n",
    "    <body>\n",
    "        <h1>{{ page_title }}</h1>\n",
    "\n",
    "        <p>This content is “dynamic”:</p>\n",
    "{% block content %}{% endblock %}        \n",
    "    </body>\n",
    "</html>\n",
    "```"
   ]
  },
  {
   "cell_type": "code",
   "execution_count": null,
   "metadata": {},
   "outputs": [],
   "source": [
    "%%writefile thello.py\n",
    "\n",
    "from flask import Flask, render_template, request, url_for\n",
    "app = Flask(__name__)\n",
    "app.debug = True\n",
    "\n",
    "@app.route(\"/test\")\n",
    "def hello():\n",
    "    return render_template('base.html', \n",
    "                            page_title=\"Templates\", \n",
    "                            content=\"hello!\")\n",
    "\n",
    "@app.route('/welcome', methods=['GET', 'POST'])\n",
    "def welcome():\n",
    "\n",
    "    if request.method == 'POST':\n",
    "        username = request.form['name']\n",
    "        if username not in (\"\",\" \",None):\n",
    "            #return \"Hey %s, what's up?\" % username\n",
    "            return render_template('base.html', \n",
    "                                   page_title=\"Hey %s, what's up?\" % username, \n",
    "                                   content=\"Hey %s, what's up?\" % username)\n",
    "        else:\n",
    "            return \"\"\"We really want to know your name. Add it \n",
    "                     <a href='%s'>here</a>\"\"\" % url_for(\"welcome\")\n",
    "    else:\n",
    "        ## this is a normal GET request\n",
    "        return render_template(\"form.html\")\n",
    "\n",
    "if __name__ == \"__main__\":\n",
    "    app.run()"
   ]
  },
  {
   "cell_type": "markdown",
   "metadata": {},
   "source": [
    "`templates/form.html`:\n",
    "```html\n",
    "{% extends \"base.html\" %}\n",
    "\n",
    "{% set page_title = 'My Form' %}\n",
    "\n",
    "{% block content %}\n",
    "            <form action=\"welcome\" method=\"POST\">\n",
    "            What is your name?\n",
    "            <input type=\"text\" name=\"name\" />\n",
    "            <input type=\"submit\" />\n",
    "            </form>\n",
    "{% endblock %}\n",
    "```\n",
    "\n",
    "(flask uses Jinja2 templating: http://jinja.pocoo.org/docs/2.10/templates/)"
   ]
  },
  {
   "cell_type": "code",
   "execution_count": 16,
   "metadata": {},
   "outputs": [
    {
     "name": "stderr",
     "output_type": "stream",
     "text": [
      " * Running on http://127.0.0.1:5000/ (Press CTRL+C to quit)\n",
      " * Restarting with stat\n"
     ]
    }
   ],
   "source": [
    "%run thello.py"
   ]
  },
  {
   "cell_type": "markdown",
   "metadata": {},
   "source": [
    "## Flask with  MVC-like behavior\n",
    "\n",
    "<img src=\"https://files.realpython.com/media/mvc_diagram_with_routes.e12c5b982ac8.png\">\n",
    "\n",
    "https://realpython.com/blog/python/the-model-view-controller-mvc-paradigm-summarized-with-legos/\n",
    "\n",
    "Flask can behave something like it with SQLAlchemy...\n",
    "`pip install flask-sqlalchemy`"
   ]
  },
  {
   "cell_type": "markdown",
   "metadata": {},
   "source": [
    "### Models \n",
    "The classes that “model” the data objects that make up your app. Stored in whatever database your config sets.\n",
    "\n",
    "```python\n",
    "from flask import Flask\n",
    "from flask.ext.sqlalchemy import SQLAlchemy\n",
    "\n",
    "app = Flask(__name__)\n",
    "app.config['SQLALCHEMY_DATABASE_URI'] = 'sqlite:////tmp/test.db'\n",
    "db = SQLAlchemy(app)\n",
    "\n",
    "\n",
    "class User(db.Model):\n",
    "    id = db.Column(db.Integer, primary_key=True)\n",
    "    username = db.Column(db.String(80), unique=True)\n",
    "    email = db.Column(db.String(120), unique=True)\n",
    "\n",
    "    def __init__(self, username, email):\n",
    "        self.username = username\n",
    "        self.email = email\n",
    "```"
   ]
  },
  {
   "cell_type": "markdown",
   "metadata": {},
   "source": [
    "<img src=\"imgs/model.png\">"
   ]
  },
  {
   "cell_type": "markdown",
   "metadata": {},
   "source": [
    "## Restful apps\n",
    "\n",
    "Flask-Restless provides simple generation of ReSTful APIs for database models defined using SQLAlchemy (or Flask-SQLAlchemy). The generated APIs send and receive messages in JSON format.\n",
    "\n",
    "http://flask-restless.readthedocs.io/en/stable/"
   ]
  },
  {
   "cell_type": "code",
   "execution_count": null,
   "metadata": {},
   "outputs": [],
   "source": [
    "!pip install flask-restless\n",
    "!pip install flask-sqlalchemy"
   ]
  },
  {
   "cell_type": "code",
   "execution_count": 23,
   "metadata": {},
   "outputs": [
    {
     "name": "stdout",
     "output_type": "stream",
     "text": [
      "Overwriting rest.py\n"
     ]
    }
   ],
   "source": [
    "%%writefile rest.py\n",
    "import flask\n",
    "import flask_sqlalchemy\n",
    "import flask_restless\n",
    "\n",
    "app = flask.Flask(__name__)\n",
    "app.config[\"DEBUG\"] = True\n",
    "app.config[\"SQLALCHEMY_DATABASE_URI\"] = \"sqlite:////tmp/test_new.db\"\n",
    "app.config[\"SQLALCHEMY_TRACK_MODIFICATIONS\"] = False\n",
    "\n",
    "db = flask_sqlalchemy.SQLAlchemy(app)\n",
    "\n",
    "class Member(db.Model):\n",
    "        # __tablename __ = \"newsletter_members\"\n",
    "        id = db.Column(db.Integer,primary_key=True)\n",
    "        last_name = db.Column(db.String(50))\n",
    "        first_name = db.Column(db.String(120))\n",
    "        email = db.Column(db.String(120),unique=True)\n",
    "\n",
    "db.create_all()\n",
    "\n",
    "manager = flask_restless.APIManager(app,flask_sqlalchemy_db=db)\n",
    "\n",
    "manager.create_api(Member,methods=[\"GET\",\"POST\"])\n",
    "\n",
    "app.run()"
   ]
  },
  {
   "cell_type": "markdown",
   "metadata": {},
   "source": [
    "Now run it in the terminal..."
   ]
  },
  {
   "cell_type": "code",
   "execution_count": 44,
   "metadata": {},
   "outputs": [],
   "source": [
    "import json  # import simplejson as json, if on Python 2.5\n",
    "import requests  # python-requests is installable from PyPI...\n",
    "# newmember = {'last_name': 'Clinton', 'first_name': 'Hillary', 'email': 'hillary2000@yahoo.com'}\n",
    "\n",
    "newmember = {'last_name': 'Trump', 'first_name': 'Donald', 'email': 'prez_never@yahoo.com'}\n",
    "r = requests.post('http://127.0.0.1:5000/api/member', data=json.dumps(newmember),\n",
    "                   headers={'content-type': 'application/json'})"
   ]
  },
  {
   "cell_type": "code",
   "execution_count": 45,
   "metadata": {},
   "outputs": [
    {
     "data": {
      "text/plain": [
       "201"
      ]
     },
     "execution_count": 45,
     "metadata": {},
     "output_type": "execute_result"
    }
   ],
   "source": [
    "r.status_code"
   ]
  },
  {
   "cell_type": "code",
   "execution_count": 46,
   "metadata": {},
   "outputs": [
    {
     "data": {
      "text/plain": [
       "'application/json, application/json'"
      ]
     },
     "execution_count": 46,
     "metadata": {},
     "output_type": "execute_result"
    }
   ],
   "source": [
    "r.headers['content-type']"
   ]
  },
  {
   "cell_type": "code",
   "execution_count": 47,
   "metadata": {},
   "outputs": [
    {
     "data": {
      "text/plain": [
       "{'email': 'prez_never@yahoo.com',\n",
       " 'first_name': 'Donald',\n",
       " 'id': 3,\n",
       " 'last_name': 'Trump'}"
      ]
     },
     "execution_count": 47,
     "metadata": {},
     "output_type": "execute_result"
    }
   ],
   "source": [
    "r.json()"
   ]
  },
  {
   "cell_type": "code",
   "execution_count": 48,
   "metadata": {},
   "outputs": [],
   "source": [
    "newid = json.loads(r.text)['id']\n",
    "newid = 2"
   ]
  },
  {
   "cell_type": "code",
   "execution_count": 49,
   "metadata": {},
   "outputs": [],
   "source": [
    "r = requests.get('http://127.0.0.1:5000/api/member/%s' % newid,\n",
    "                  headers={'content-type': 'application/json'})"
   ]
  },
  {
   "cell_type": "code",
   "execution_count": 50,
   "metadata": {},
   "outputs": [
    {
     "data": {
      "text/plain": [
       "(200, 'application/json, application/json')"
      ]
     },
     "execution_count": 50,
     "metadata": {},
     "output_type": "execute_result"
    }
   ],
   "source": [
    "r.status_code, r.headers['content-type']"
   ]
  },
  {
   "cell_type": "code",
   "execution_count": 51,
   "metadata": {},
   "outputs": [
    {
     "data": {
      "text/plain": [
       "{'email': 'prez_forever@yahoo.com',\n",
       " 'first_name': 'Donald',\n",
       " 'id': 2,\n",
       " 'last_name': 'Trump'}"
      ]
     },
     "execution_count": 51,
     "metadata": {},
     "output_type": "execute_result"
    }
   ],
   "source": [
    "r.json()"
   ]
  },
  {
   "cell_type": "markdown",
   "metadata": {},
   "source": [
    "## Flask Apps\n",
    "\n",
    "\n",
    "The philosophy of modern web frameworks is “Don’t Repeat Yourself” (DRY).\n",
    "\n",
    "Flask is already good at supplying the DRY building blocks for low-level tasks, but what about high-level functionality?\n",
    "\n",
    "- User registration (Flask-Login)\n",
    "\n",
    "- Sending Mail (Flask-Mail)\n",
    "\n",
    "The Flask community makes reusable apps to solve this problem. Plug it in and go.\n",
    "\n",
    "http://flask.pocoo.org/extensions/"
   ]
  },
  {
   "cell_type": "code",
   "execution_count": null,
   "metadata": {},
   "outputs": [],
   "source": []
  }
 ],
 "metadata": {
  "kernelspec": {
   "display_name": "Python 3",
   "language": "python",
   "name": "python3"
  },
  "language_info": {
   "codemirror_mode": {
    "name": "ipython",
    "version": 3
   },
   "file_extension": ".py",
   "mimetype": "text/x-python",
   "name": "python",
   "nbconvert_exporter": "python",
   "pygments_lexer": "ipython3",
   "version": "3.6.4"
  }
 },
 "nbformat": 4,
 "nbformat_minor": 2
}
