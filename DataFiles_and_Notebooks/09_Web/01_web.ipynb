{
 "cells": [
  {
   "cell_type": "code",
   "execution_count": 1,
   "metadata": {},
   "outputs": [
    {
     "data": {
      "text/html": [
       "<style>\n",
       "\n",
       ".rendered_html\n",
       "{\n",
       "  color: #2C5494;\n",
       "  font-family: Ubuntu;\n",
       "  font-size: 140%;\n",
       "  line-height: 1.1;\n",
       "  margin: 0.5em 0;\n",
       "  }\n",
       "\n",
       ".talk_title\n",
       "{\n",
       "  color: #498AF3;\n",
       "  font-size: 250%;\n",
       "  font-weight:bold;\n",
       "  line-height: 1.2; \n",
       "  margin: 10px 50px 10px;\n",
       "  }\n",
       "\n",
       ".subtitle\n",
       "{\n",
       "  color: #386BBC;\n",
       "  font-size: 180%;\n",
       "  font-weight:bold;\n",
       "  line-height: 1.2; \n",
       "  margin: 20px 50px 20px;\n",
       "  }\n",
       "\n",
       ".slide-header, p.slide-header\n",
       "{\n",
       "  color: #498AF3;\n",
       "  font-size: 200%;\n",
       "  font-weight:bold;\n",
       "  margin: 0px 20px 10px;\n",
       "  page-break-before: always;\n",
       "  text-align: center;\n",
       "  }\n",
       "\n",
       ".rendered_html h1\n",
       "{\n",
       "  color: #498AF3;\n",
       "  line-height: 1.2; \n",
       "  margin: 0.15em 0em 0.5em;\n",
       "  page-break-before: always;\n",
       "  text-align: center;\n",
       "  }\n",
       "\n",
       "\n",
       ".rendered_html h2\n",
       "{ \n",
       "  color: #386BBC;\n",
       "  line-height: 1.2;\n",
       "  margin: 1.1em 0em 0.5em;\n",
       "  }\n",
       "\n",
       ".rendered_html h3\n",
       "{ \n",
       "  font-size: 100%;\n",
       "  line-height: 1.2;\n",
       "  margin: 1.1em 0em 0.5em;\n",
       "  }\n",
       "\n",
       ".rendered_html li\n",
       "{\n",
       "  line-height: 1.8;\n",
       "  }\n",
       "\n",
       ".input_prompt, .CodeMirror-lines, .output_area\n",
       "{\n",
       "  font-family: Consolas;\n",
       "  font-size: 120%;\n",
       "  }\n",
       "\n",
       ".gap-above\n",
       "{\n",
       "  padding-top: 200px;\n",
       "  }\n",
       "\n",
       ".gap01\n",
       "{\n",
       "  padding-top: 10px;\n",
       "  }\n",
       "\n",
       ".gap05\n",
       "{\n",
       "  padding-top: 50px;\n",
       "  }\n",
       "\n",
       ".gap1\n",
       "{\n",
       "  padding-top: 100px;\n",
       "  }\n",
       "\n",
       ".gap2\n",
       "{\n",
       "  padding-top: 200px;\n",
       "  }\n",
       "\n",
       ".gap3\n",
       "{\n",
       "  padding-top: 300px;\n",
       "  }\n",
       "\n",
       ".emph\n",
       "{\n",
       "  color: #386BBC;\n",
       "  }\n",
       "\n",
       ".warn\n",
       "{\n",
       "  color: red;\n",
       "  }\n",
       "\n",
       ".center\n",
       "{\n",
       "  text-align: center;\n",
       "  }\n",
       "\n",
       ".nb_link\n",
       "{\n",
       "    padding-bottom: 0.5em;\n",
       "}\n",
       "\n",
       "</style>"
      ],
      "text/plain": [
       "<IPython.core.display.HTML object>"
      ]
     },
     "metadata": {},
     "output_type": "display_data"
    }
   ],
   "source": [
    "%run ../00_AdvancedPythonConcepts/talktools.py"
   ]
  },
  {
   "cell_type": "markdown",
   "metadata": {},
   "source": [
    "# Web Development with Python\n",
    "\n",
    "AY250 Spring 2018\n",
    "\n",
    "```\n",
    "git pull; pip install flask cherrypy\n",
    "```\n",
    "\n",
    "<img src=\"http://www.opensourceforu.com/wp-content/uploads/temp-uploads/2010/06/Python-bite.jpg\">\n",
    "\n",
    "http://www.linuxforu.com/how-to/django-when-python-bites-the-web/"
   ]
  },
  {
   "cell_type": "markdown",
   "metadata": {},
   "source": [
    "<img src=\"imgs/droppedimage.png\">"
   ]
  },
  {
   "cell_type": "markdown",
   "metadata": {},
   "source": [
    "## Overview \n",
    "\n",
    "1. The web paradigm\n",
    "\n",
    "2. Using Python for the Web\n",
    "\n",
    "   - Basic Python servers\n",
    "\n",
    "   - Frameworks and using Flask\n"
   ]
  },
  {
   "cell_type": "markdown",
   "metadata": {},
   "source": [
    "## Web Interactions\n",
    "\n",
    "We already saw this in the Interaction Lecture:\n",
    "\n",
    "\n",
    "<img src=\"https://docstore.mik.ua/orelly/apache_mod/03fig01.gif\">\n",
    "\n"
   ]
  },
  {
   "cell_type": "markdown",
   "metadata": {},
   "source": [
    " https://www.khanacademy.org/computing/computer-programming/html-css\n",
    " <img src=\"imgs/khan.png\">"
   ]
  },
  {
   "cell_type": "markdown",
   "metadata": {},
   "source": [
    "## Browser stuff\n",
    "\n",
    "<img src=\"imgs/browser.png\">\n",
    "\n",
    "- Python helps generate the (html) content.\n",
    "- In general, you work on CSS and JS separately.\n",
    "- Finally, use Python to serve all of this media to the user."
   ]
  },
  {
   "cell_type": "markdown",
   "metadata": {},
   "source": [
    "\n",
    "`http` is a package that collects several modules for working with the HyperText Transfer Protocol:\n",
    "\n",
    "  - http.client is a low-level HTTP protocol client; for high-level URL opening use urllib.request\n",
    "  - http.server contains basic HTTP server classes based on socketserver\n",
    "  - http.cookies has utilities for implementing state management with cookies\n",
    "  - http.cookiejar provides persistence of cookies"
   ]
  },
  {
   "cell_type": "markdown",
   "metadata": {},
   "source": [
    "## Simple Servers\n",
    "\n",
    "Recall the XML/RPC Server...a webserver just responds to a different request protocol"
   ]
  },
  {
   "cell_type": "code",
   "execution_count": 2,
   "metadata": {},
   "outputs": [
    {
     "name": "stdout",
     "output_type": "stream",
     "text": [
      "Serving HTTP on 0.0.0.0 port 8000 (http://0.0.0.0:8000/) ...\n",
      "127.0.0.1 - - [09/Apr/2018 14:25:12] \"GET / HTTP/1.1\" 200 -\n",
      "127.0.0.1 - - [09/Apr/2018 14:25:18] \"GET /app.py HTTP/1.1\" 200 -\n",
      "127.0.0.1 - - [09/Apr/2018 14:25:39] \"GET /fhello.py HTTP/1.1\" 200 -\n",
      "^C\n",
      "\n",
      "Keyboard interrupt received, exiting.\n"
     ]
    }
   ],
   "source": [
    "!python3 -m http.server"
   ]
  },
  {
   "cell_type": "code",
   "execution_count": 9,
   "metadata": {},
   "outputs": [
    {
     "name": "stdout",
     "output_type": "stream",
     "text": [
      "Overwriting hello.py\n"
     ]
    }
   ],
   "source": [
    "%%writefile hello.py\n",
    "\n",
    "from http.server import BaseHTTPRequestHandler, HTTPServer\n",
    "\n",
    "HOST = \"localhost\"\n",
    "PORT = 8083\n",
    "\n",
    "class Simpleserver(BaseHTTPRequestHandler):\n",
    "   \n",
    "    def do_GET(self):\n",
    "        self.send_response(200)\n",
    "        self.send_header(\"Content-type\", \"text/html\")\n",
    "        self.end_headers()\n",
    "        self.wfile.write(bytes(\"<body>Hello!</body>\", \"utf-8\"))\n",
    "\n",
    "myServer = HTTPServer((HOST, PORT), Simpleserver)\n",
    "\n",
    "try:\n",
    "    myServer.serve_forever()\n",
    "except KeyboardInterrupt:\n",
    "    pass\n",
    "\n",
    "myServer.server_close()"
   ]
  },
  {
   "cell_type": "code",
   "execution_count": 10,
   "metadata": {},
   "outputs": [
    {
     "name": "stderr",
     "output_type": "stream",
     "text": [
      "127.0.0.1 - - [09/Apr/2018 14:29:47] \"GET / HTTP/1.1\" 200 -\n",
      "127.0.0.1 - - [09/Apr/2018 14:29:47] \"GET /favicon.ico HTTP/1.1\" 200 -\n"
     ]
    }
   ],
   "source": [
    "%run hello.py"
   ]
  },
  {
   "cell_type": "markdown",
   "metadata": {},
   "source": [
    "**note: HTTPServer is not threaded**"
   ]
  },
  {
   "cell_type": "code",
   "execution_count": 11,
   "metadata": {},
   "outputs": [
    {
     "name": "stdout",
     "output_type": "stream",
     "text": [
      "Overwriting httpd.py\n"
     ]
    }
   ],
   "source": [
    "%%writefile httpd.py\n",
    "import time\n",
    "import http.server\n",
    "\n",
    "HOST_NAME = 'localhost' #\n",
    "PORT_NUMBER = 8091 # Maybe set this to 9000.\n",
    "\n",
    "def s2b(s):\n",
    "    return bytes(s, 'utf-8')\n",
    "\n",
    "class MyHandler(http.server.SimpleHTTPRequestHandler):\n",
    "    def do_HEAD(s):\n",
    "        s.send_response(200)\n",
    "        s.send_header(s2b(\"Content-type\"), s2b(\"text/html\"))\n",
    "        s.end_headers()\n",
    "\n",
    "    def do_GET(s):\n",
    "        \"\"\"Respond to a GET request.\"\"\"\n",
    "        s.send_response(200)\n",
    "        s.send_header(s2b(\"Content-type\"), s2b(\"text/html\"))\n",
    "        s.end_headers()\n",
    "        s.wfile.write(s2b(\"<html><head><title>Title goes here.</title></head>\"))\n",
    "        s.wfile.write(s2b(\"<body><p>This is a <i>test.</i></p>\"))\n",
    "        # If someone went to \"http://something.somewhere.net/foo/bar/\",\n",
    "        # then s.path equals \"/foo/bar/\".\n",
    "        s.wfile.write(s2b(\"<p>You accessed path: %s</p>\" % s.path))\n",
    "        s.wfile.write(s2b(\"</body></html>\"))\n",
    "\n",
    "if __name__ == '__main__':\n",
    "    server_class = http.server.HTTPServer\n",
    "    httpd = server_class((HOST_NAME, PORT_NUMBER), MyHandler)\n",
    "    print(time.asctime()), \"Server Starts - %s:%s\" % (HOST_NAME, PORT_NUMBER)\n",
    "    httpd.serve_forever()\n",
    "    #except KeyboardInterrupt:\n",
    "    #    pass\n",
    "    httpd.server_close()\n",
    "    print(time.asctime()), \"Server Stops - %s:%s\" % (HOST_NAME, PORT_NUMBER)"
   ]
  },
  {
   "cell_type": "code",
   "execution_count": 12,
   "metadata": {},
   "outputs": [
    {
     "name": "stdout",
     "output_type": "stream",
     "text": [
      "Mon Apr  9 14:34:20 2018\n"
     ]
    },
    {
     "name": "stderr",
     "output_type": "stream",
     "text": [
      "127.0.0.1 - - [09/Apr/2018 14:34:25] \"GET / HTTP/1.1\" 200 -\n",
      "127.0.0.1 - - [09/Apr/2018 14:34:25] \"GET /favicon.ico HTTP/1.1\" 200 -\n",
      "127.0.0.1 - - [09/Apr/2018 14:34:34] \"GET /hello/class HTTP/1.1\" 200 -\n",
      "127.0.0.1 - - [09/Apr/2018 14:34:34] \"GET /favicon.ico HTTP/1.1\" 200 -\n"
     ]
    },
    {
     "ename": "KeyboardInterrupt",
     "evalue": "",
     "output_type": "error",
     "traceback": [
      "\u001b[0;31m---------------------------------------------------------------------------\u001b[0m",
      "\u001b[0;31mKeyboardInterrupt\u001b[0m                         Traceback (most recent call last)",
      "\u001b[0;32m~/Classes/python-seminar/DataFiles_and_Notebooks/09_Web/httpd.py\u001b[0m in \u001b[0;36m<module>\u001b[0;34m()\u001b[0m\n\u001b[1;32m     30\u001b[0m     \u001b[0mhttpd\u001b[0m \u001b[0;34m=\u001b[0m \u001b[0mserver_class\u001b[0m\u001b[0;34m(\u001b[0m\u001b[0;34m(\u001b[0m\u001b[0mHOST_NAME\u001b[0m\u001b[0;34m,\u001b[0m \u001b[0mPORT_NUMBER\u001b[0m\u001b[0;34m)\u001b[0m\u001b[0;34m,\u001b[0m \u001b[0mMyHandler\u001b[0m\u001b[0;34m)\u001b[0m\u001b[0;34m\u001b[0m\u001b[0m\n\u001b[1;32m     31\u001b[0m     \u001b[0mprint\u001b[0m\u001b[0;34m(\u001b[0m\u001b[0mtime\u001b[0m\u001b[0;34m.\u001b[0m\u001b[0masctime\u001b[0m\u001b[0;34m(\u001b[0m\u001b[0;34m)\u001b[0m\u001b[0;34m)\u001b[0m\u001b[0;34m,\u001b[0m \u001b[0;34m\"Server Starts - %s:%s\"\u001b[0m \u001b[0;34m%\u001b[0m \u001b[0;34m(\u001b[0m\u001b[0mHOST_NAME\u001b[0m\u001b[0;34m,\u001b[0m \u001b[0mPORT_NUMBER\u001b[0m\u001b[0;34m)\u001b[0m\u001b[0;34m\u001b[0m\u001b[0m\n\u001b[0;32m---> 32\u001b[0;31m     \u001b[0mhttpd\u001b[0m\u001b[0;34m.\u001b[0m\u001b[0mserve_forever\u001b[0m\u001b[0;34m(\u001b[0m\u001b[0;34m)\u001b[0m\u001b[0;34m\u001b[0m\u001b[0m\n\u001b[0m\u001b[1;32m     33\u001b[0m     \u001b[0;31m#except KeyboardInterrupt:\u001b[0m\u001b[0;34m\u001b[0m\u001b[0;34m\u001b[0m\u001b[0m\n\u001b[1;32m     34\u001b[0m     \u001b[0;31m#    pass\u001b[0m\u001b[0;34m\u001b[0m\u001b[0;34m\u001b[0m\u001b[0m\n",
      "\u001b[0;32m~/anaconda3/lib/python3.6/socketserver.py\u001b[0m in \u001b[0;36mserve_forever\u001b[0;34m(self, poll_interval)\u001b[0m\n\u001b[1;32m    234\u001b[0m \u001b[0;34m\u001b[0m\u001b[0m\n\u001b[1;32m    235\u001b[0m                 \u001b[0;32mwhile\u001b[0m \u001b[0;32mnot\u001b[0m \u001b[0mself\u001b[0m\u001b[0;34m.\u001b[0m\u001b[0m__shutdown_request\u001b[0m\u001b[0;34m:\u001b[0m\u001b[0;34m\u001b[0m\u001b[0m\n\u001b[0;32m--> 236\u001b[0;31m                     \u001b[0mready\u001b[0m \u001b[0;34m=\u001b[0m \u001b[0mselector\u001b[0m\u001b[0;34m.\u001b[0m\u001b[0mselect\u001b[0m\u001b[0;34m(\u001b[0m\u001b[0mpoll_interval\u001b[0m\u001b[0;34m)\u001b[0m\u001b[0;34m\u001b[0m\u001b[0m\n\u001b[0m\u001b[1;32m    237\u001b[0m                     \u001b[0;32mif\u001b[0m \u001b[0mready\u001b[0m\u001b[0;34m:\u001b[0m\u001b[0;34m\u001b[0m\u001b[0m\n\u001b[1;32m    238\u001b[0m                         \u001b[0mself\u001b[0m\u001b[0;34m.\u001b[0m\u001b[0m_handle_request_noblock\u001b[0m\u001b[0;34m(\u001b[0m\u001b[0;34m)\u001b[0m\u001b[0;34m\u001b[0m\u001b[0m\n",
      "\u001b[0;32m~/anaconda3/lib/python3.6/selectors.py\u001b[0m in \u001b[0;36mselect\u001b[0;34m(self, timeout)\u001b[0m\n\u001b[1;32m    374\u001b[0m             \u001b[0mready\u001b[0m \u001b[0;34m=\u001b[0m \u001b[0;34m[\u001b[0m\u001b[0;34m]\u001b[0m\u001b[0;34m\u001b[0m\u001b[0m\n\u001b[1;32m    375\u001b[0m             \u001b[0;32mtry\u001b[0m\u001b[0;34m:\u001b[0m\u001b[0;34m\u001b[0m\u001b[0m\n\u001b[0;32m--> 376\u001b[0;31m                 \u001b[0mfd_event_list\u001b[0m \u001b[0;34m=\u001b[0m \u001b[0mself\u001b[0m\u001b[0;34m.\u001b[0m\u001b[0m_poll\u001b[0m\u001b[0;34m.\u001b[0m\u001b[0mpoll\u001b[0m\u001b[0;34m(\u001b[0m\u001b[0mtimeout\u001b[0m\u001b[0;34m)\u001b[0m\u001b[0;34m\u001b[0m\u001b[0m\n\u001b[0m\u001b[1;32m    377\u001b[0m             \u001b[0;32mexcept\u001b[0m \u001b[0mInterruptedError\u001b[0m\u001b[0;34m:\u001b[0m\u001b[0;34m\u001b[0m\u001b[0m\n\u001b[1;32m    378\u001b[0m                 \u001b[0;32mreturn\u001b[0m \u001b[0mready\u001b[0m\u001b[0;34m\u001b[0m\u001b[0m\n",
      "\u001b[0;31mKeyboardInterrupt\u001b[0m: "
     ]
    }
   ],
   "source": [
    "%run httpd.py"
   ]
  },
  {
   "cell_type": "markdown",
   "metadata": {},
   "source": [
    "### Cherrypy \n",
    "\n",
    "<img width=\"100\" src=\"http://docs.cherrypy.org/en/latest/_static/images/cherrypy_logo_big.png\" >\n",
    "\n",
    "http://cherrypy.org/: \"pythonic, object-oriented web framework\"\n",
    "```\n",
    "pip install cherrypy\n",
    "```"
   ]
  },
  {
   "cell_type": "code",
   "execution_count": 15,
   "metadata": {},
   "outputs": [
    {
     "name": "stdout",
     "output_type": "stream",
     "text": [
      "Overwriting cp1.py\n"
     ]
    }
   ],
   "source": [
    "%%writefile cp1.py\n",
    "import cherrypy\n",
    "\n",
    "PORTNUM = 8098\n",
    "\n",
    "class WelcomePage:\n",
    "    def greetUser(self, name = None):\n",
    "        if name:\n",
    "            # Greet the user!\n",
    "            return \"Hey %s, what's up?\" % name\n",
    "        else:\n",
    "            return 'call me like <i>http://localhost:{}/greetUser?name=Josh</i>'.format(PORTNUM)\n",
    "    \n",
    "    greetUser.exposed = True\n",
    "\n",
    "cherrypy.config.update({\"server.socket_port\": PORTNUM})\n",
    "\n",
    "cherrypy.quickstart(WelcomePage())"
   ]
  },
  {
   "cell_type": "code",
   "execution_count": 14,
   "metadata": {},
   "outputs": [
    {
     "name": "stderr",
     "output_type": "stream",
     "text": [
      "[09/Apr/2018:14:36:34] ENGINE Listening for SIGTERM.\n",
      "[09/Apr/2018:14:36:34] ENGINE Listening for SIGHUP.\n",
      "[09/Apr/2018:14:36:34] ENGINE Listening for SIGUSR1.\n",
      "[09/Apr/2018:14:36:34] ENGINE Bus STARTING\n",
      "CherryPy Checker:\n",
      "The Application mounted at '' has an empty config.\n",
      "\n",
      "[09/Apr/2018:14:36:34] ENGINE Started monitor thread 'Autoreloader'.\n",
      "[09/Apr/2018:14:36:34] ENGINE Serving on http://127.0.0.1:8093\n",
      "[09/Apr/2018:14:36:34] ENGINE Bus STARTED\n"
     ]
    },
    {
     "name": "stdout",
     "output_type": "stream",
     "text": [
      "127.0.0.1 - - [09/Apr/2018:14:36:48] \"GET / HTTP/1.1\" 404 1394 \"\" \"Mozilla/5.0 (Macintosh; Intel Mac OS X 10_13_3) AppleWebKit/537.36 (KHTML, like Gecko) Chrome/65.0.3325.181 Safari/537.36\"\n",
      "127.0.0.1 - - [09/Apr/2018:14:37:01] \"GET /greetUser HTTP/1.1\" 200 61 \"\" \"Mozilla/5.0 (Macintosh; Intel Mac OS X 10_13_3) AppleWebKit/537.36 (KHTML, like Gecko) Chrome/65.0.3325.181 Safari/537.36\"\n",
      "127.0.0.1 - - [09/Apr/2018:14:37:14] \"GET /greetUser?name=Josh HTTP/1.1\" 200 20 \"\" \"Mozilla/5.0 (Macintosh; Intel Mac OS X 10_13_3) AppleWebKit/537.36 (KHTML, like Gecko) Chrome/65.0.3325.181 Safari/537.36\"\n",
      "127.0.0.1 - - [09/Apr/2018:14:37:20] \"GET /greetUser?name=John HTTP/1.1\" 200 20 \"\" \"Mozilla/5.0 (Macintosh; Intel Mac OS X 10_13_3) AppleWebKit/537.36 (KHTML, like Gecko) Chrome/65.0.3325.181 Safari/537.36\"\n"
     ]
    },
    {
     "name": "stderr",
     "output_type": "stream",
     "text": [
      "[09/Apr/2018:14:38:24] ENGINE Keyboard Interrupt: shutting down bus\n",
      "[09/Apr/2018:14:38:24] ENGINE Bus STOPPING\n",
      "[09/Apr/2018:14:38:24] ENGINE HTTP Server cherrypy._cpwsgi_server.CPWSGIServer(('127.0.0.1', 8093)) shut down\n",
      "[09/Apr/2018:14:38:24] ENGINE Stopped thread 'Autoreloader'.\n",
      "[09/Apr/2018:14:38:24] ENGINE Bus STOPPED\n",
      "[09/Apr/2018:14:38:24] ENGINE Bus EXITING\n",
      "[09/Apr/2018:14:38:24] ENGINE Bus EXITED\n",
      "[09/Apr/2018:14:38:24] ENGINE Waiting for child threads to terminate...\n"
     ]
    }
   ],
   "source": [
    "%run cp1.py"
   ]
  },
  {
   "cell_type": "code",
   "execution_count": 2,
   "metadata": {},
   "outputs": [
    {
     "name": "stdout",
     "output_type": "stream",
     "text": [
      "Overwriting cp2.py\n"
     ]
    }
   ],
   "source": [
    "%%writefile cp2.py\n",
    "\"\"\"\n",
    "Tutorial - Passing variables\n",
    "\n",
    "This tutorial shows you how to pass GET/POST variables to methods.\n",
    "\"\"\"\n",
    "import os\n",
    "import cherrypy\n",
    "\n",
    "class WelcomePage:\n",
    "\n",
    "    @cherrypy.expose\n",
    "    def index(self):\n",
    "        # Ask for the user's name.\n",
    "        return '''\n",
    "            <form action=\"greetUser\" method=\"GET\">\n",
    "            What is your name?\n",
    "            <input type=\"text\" name=\"name\" />\n",
    "            What is your favorite color?\n",
    "            <input type=\"text\" name=\"color\" />\n",
    "            <input type=\"submit\" />\n",
    "            </form>'''\n",
    "    \n",
    "    @cherrypy.expose\n",
    "    def greetUser(self, name = None, color = \"blue\"):\n",
    "        # CherryPy passes all GET and POST variables as method parameters.\n",
    "        # It doesn't make a difference where the variables come from, how\n",
    "        # large their contents are, and so on.\n",
    "        #\n",
    "        # You can define default parameter values as usual. In this\n",
    "        # example, the \"name\" parameter defaults to None so we can check\n",
    "        # if a name was actually specified.\n",
    "        \n",
    "        if name:\n",
    "            # Greet the user!\n",
    "            return \"<font color='%s'>Hey %s, what's up?</font>\" % (color, name)\n",
    "        else:\n",
    "            if name is None:\n",
    "                # No name was specified\n",
    "                return 'Please enter your name <a href=\"./\">here</a>.'\n",
    "            else:\n",
    "                return 'No, really, enter your name <a href=\"./\">here</a>.'\n",
    "        \n",
    "    def secret(self):\n",
    "        return \"here's my password: blah!\"\n",
    "\n",
    "if __name__ == '__main__':\n",
    "    # CherryPy always starts with app.root when trying to map request URIs\n",
    "    # to objects, so we need to mount a request handler root. A request\n",
    "    # to '/' will be mapped to HelloWorld().index().\n",
    "    cherrypy.config.update({\"server.socket_port\": 8083})\n",
    "\n",
    "    cherrypy.quickstart(WelcomePage())\n",
    "else:\n",
    "    # This branch is for the test suite; you can ignore it.\n",
    "    cherrypy.tree.mount(WelcomePage())\n"
   ]
  },
  {
   "cell_type": "code",
   "execution_count": 3,
   "metadata": {},
   "outputs": [
    {
     "name": "stderr",
     "output_type": "stream",
     "text": [
      "[09/Apr/2018:14:55:39] ENGINE Listening for SIGTERM.\n",
      "[09/Apr/2018:14:55:39] ENGINE Listening for SIGHUP.\n",
      "[09/Apr/2018:14:55:39] ENGINE Listening for SIGUSR1.\n",
      "[09/Apr/2018:14:55:39] ENGINE Bus STARTING\n",
      "CherryPy Checker:\n",
      "The Application mounted at '' has an empty config.\n",
      "\n",
      "[09/Apr/2018:14:55:39] ENGINE Started monitor thread 'Autoreloader'.\n"
     ]
    },
    {
     "name": "stdout",
     "output_type": "stream",
     "text": [
      "127.0.0.1 - - [09/Apr/2018:14:55:39] \"GET /greetUser?name=teststest HTTP/1.1\" 200 51 \"https://tough-pig-50.localtunnel.me/\" \"Mozilla/5.0 (Macintosh; Intel Mac OS X 10_10_5) AppleWebKit/537.36 (KHTML, like Gecko) Chrome/65.0.3325.181 Safari/537.36\"\n"
     ]
    },
    {
     "name": "stderr",
     "output_type": "stream",
     "text": [
      "[09/Apr/2018:14:55:39] ENGINE Serving on http://127.0.0.1:8083\n",
      "[09/Apr/2018:14:55:39] ENGINE Bus STARTED\n"
     ]
    },
    {
     "name": "stdout",
     "output_type": "stream",
     "text": [
      "127.0.0.1 - - [09/Apr/2018:14:55:40] \"GET / HTTP/1.1\" 200 272 \"\" \"Mozilla/5.0 (X11; Ubuntu; Linux x86_64; rv:59.0) Gecko/20100101 Firefox/59.0\"\n",
      "127.0.0.1 - - [09/Apr/2018:14:55:40] \"GET /greetUser?name=teststest HTTP/1.1\" 200 51 \"https://tough-pig-50.localtunnel.me/\" \"Mozilla/5.0 (Macintosh; Intel Mac OS X 10_10_5) AppleWebKit/537.36 (KHTML, like Gecko) Chrome/65.0.3325.181 Safari/537.36\"\n",
      "127.0.0.1 - - [09/Apr/2018:14:55:40] \"GET /greetUser?name=josh HTTP/1.1\" 200 46 \"https://tough-pig-50.localtunnel.me/\" \"Mozilla/5.0 (Macintosh; Intel Mac OS X 10_13_4) AppleWebKit/605.1.15 (KHTML, like Gecko) Version/11.1 Safari/605.1.15\"\n",
      "127.0.0.1 - - [09/Apr/2018:14:55:40] \"GET /greetUser?name=brooooo HTTP/1.1\" 200 49 \"https://tough-pig-50.localtunnel.me/\" \"Mozilla/5.0 (Macintosh; Intel Mac OS X 10_12_6) AppleWebKit/537.36 (KHTML, like Gecko) Chrome/65.0.3325.181 Safari/537.36\"\n",
      "127.0.0.1 - - [09/Apr/2018:14:55:40] \"GET /greetUser?name=josh HTTP/1.1\" 200 46 \"https://tough-pig-50.localtunnel.me/\" \"Mozilla/5.0 (Macintosh; Intel Mac OS X 10_13_4) AppleWebKit/605.1.15 (KHTML, like Gecko) Version/11.1 Safari/605.1.15\"\n",
      "127.0.0.1 - - [09/Apr/2018:14:55:49] \"GET / HTTP/1.1\" 200 272 \"http://localhost:8888/notebooks/01_web.ipynb\" \"Mozilla/5.0 (Macintosh; Intel Mac OS X 10_13_3) AppleWebKit/537.36 (KHTML, like Gecko) Chrome/65.0.3325.181 Safari/537.36\"\n",
      "127.0.0.1 - - [09/Apr/2018:14:55:56] \"GET /greetUser?name=Josh&color=red HTTP/1.1\" 200 45 \"http://127.0.0.1:8083/\" \"Mozilla/5.0 (Macintosh; Intel Mac OS X 10_13_3) AppleWebKit/537.36 (KHTML, like Gecko) Chrome/65.0.3325.181 Safari/537.36\"\n",
      "127.0.0.1 - - [09/Apr/2018:14:56:03] \"GET /greetUser?name=Josh&color= HTTP/1.1\" 200 42 \"http://127.0.0.1:8083/\" \"Mozilla/5.0 (Macintosh; Intel Mac OS X 10_13_3) AppleWebKit/537.36 (KHTML, like Gecko) Chrome/65.0.3325.181 Safari/537.36\"\n",
      "127.0.0.1 - - [09/Apr/2018:14:56:26] \"GET /greetUser?name=Josh&color=teal HTTP/1.1\" 200 46 \"http://127.0.0.1:8083/\" \"Mozilla/5.0 (Macintosh; Intel Mac OS X 10_13_3) AppleWebKit/537.36 (KHTML, like Gecko) Chrome/65.0.3325.181 Safari/537.36\"\n",
      "127.0.0.1 - - [09/Apr/2018:14:56:43] \"GET /greetUser?name=Josh&color=%23334455 HTTP/1.1\" 200 49 \"http://127.0.0.1:8083/\" \"Mozilla/5.0 (Macintosh; Intel Mac OS X 10_13_3) AppleWebKit/537.36 (KHTML, like Gecko) Chrome/65.0.3325.181 Safari/537.36\"\n",
      "127.0.0.1 - - [09/Apr/2018:14:56:56] \"GET /greetUser?name=Josh&color=tomato HTTP/1.1\" 200 48 \"http://127.0.0.1:8083/\" \"Mozilla/5.0 (Macintosh; Intel Mac OS X 10_13_3) AppleWebKit/537.36 (KHTML, like Gecko) Chrome/65.0.3325.181 Safari/537.36\"\n",
      "127.0.0.1 - - [09/Apr/2018:14:57:02] \"GET /greetUser?name=Josh&color=orange HTTP/1.1\" 200 48 \"http://127.0.0.1:8083/\" \"Mozilla/5.0 (Macintosh; Intel Mac OS X 10_13_3) AppleWebKit/537.36 (KHTML, like Gecko) Chrome/65.0.3325.181 Safari/537.36\"\n",
      "127.0.0.1 - - [09/Apr/2018:14:57:05] \"GET /greetUser?name=Josh&color=banana HTTP/1.1\" 200 48 \"http://127.0.0.1:8083/\" \"Mozilla/5.0 (Macintosh; Intel Mac OS X 10_13_3) AppleWebKit/537.36 (KHTML, like Gecko) Chrome/65.0.3325.181 Safari/537.36\"\n"
     ]
    },
    {
     "name": "stderr",
     "output_type": "stream",
     "text": [
      "[09/Apr/2018:14:57:18] ENGINE Keyboard Interrupt: shutting down bus\n",
      "[09/Apr/2018:14:57:18] ENGINE Bus STOPPING\n",
      "[09/Apr/2018:14:57:23] ENGINE HTTP Server cherrypy._cpwsgi_server.CPWSGIServer(('127.0.0.1', 8083)) shut down\n",
      "[09/Apr/2018:14:57:23] ENGINE Stopped thread 'Autoreloader'.\n",
      "[09/Apr/2018:14:57:23] ENGINE Bus STOPPED\n",
      "[09/Apr/2018:14:57:23] ENGINE Bus EXITING\n",
      "[09/Apr/2018:14:57:23] ENGINE Bus EXITED\n",
      "[09/Apr/2018:14:57:23] ENGINE Waiting for child threads to terminate...\n",
      "[09/Apr/2018:14:57:23] ENGINE Waiting for thread CP Server Thread-26.\n"
     ]
    }
   ],
   "source": [
    "%run cp2.py"
   ]
  },
  {
   "cell_type": "code",
   "execution_count": null,
   "metadata": {},
   "outputs": [],
   "source": [
    "https://tough-pig-50.localtunnel.me"
   ]
  },
  {
   "cell_type": "markdown",
   "metadata": {},
   "source": [
    "You can share your running webserver using `localtunnel` (https://localtunnel.github.io/www/)\n",
    "\n",
    "```\n",
    "brew install npm # on mac\n",
    "npm install -g localtunnel\n",
    "lt --port 8083\n",
    "```"
   ]
  },
  {
   "cell_type": "markdown",
   "metadata": {},
   "source": [
    "# Small exercise:\n",
    "\n",
    "modify cp2.py so that it asks the user for their name and their favorite color. Then greet them with that color...\n",
    "\n",
    "hint: `<font color=\"red\">output</font>`\n",
    "\n",
    "<img src=\"imgs/form1.png\">\n",
    "\n",
    "<img src=\"imgs/form2.png\">\n"
   ]
  },
  {
   "cell_type": "code",
   "execution_count": null,
   "metadata": {
    "collapsed": true
   },
   "outputs": [],
   "source": []
  }
 ],
 "metadata": {
  "kernelspec": {
   "display_name": "Python 3",
   "language": "python",
   "name": "python3"
  },
  "language_info": {
   "codemirror_mode": {
    "name": "ipython",
    "version": 3
   },
   "file_extension": ".py",
   "mimetype": "text/x-python",
   "name": "python",
   "nbconvert_exporter": "python",
   "pygments_lexer": "ipython3",
   "version": "3.6.4"
  }
 },
 "nbformat": 4,
 "nbformat_minor": 1
}
