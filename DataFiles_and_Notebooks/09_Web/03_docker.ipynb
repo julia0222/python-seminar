{
 "cells": [
  {
   "cell_type": "markdown",
   "metadata": {},
   "source": [
    "# Serving to the World\n",
    "\n",
    "We already saw how to interact locally with http servers and how to tunnel a world-accessible URL back to your local server. But what if you want to set something up (e.g., in the cloud) and let others interact with the server, persistently?"
   ]
  },
  {
   "cell_type": "markdown",
   "metadata": {},
   "source": [
    "## Python Serverless Microframework for AWS\n",
    "\n",
    "https://github.com/awslabs/chalice"
   ]
  },
  {
   "cell_type": "code",
   "execution_count": null,
   "metadata": {},
   "outputs": [],
   "source": [
    "# !pip install chalice"
   ]
  },
  {
   "cell_type": "code",
   "execution_count": 1,
   "metadata": {},
   "outputs": [
    {
     "name": "stdout",
     "output_type": "stream",
     "text": [
      "Directory already exists: helloworld\r\n",
      "Aborted!\r\n"
     ]
    }
   ],
   "source": [
    "!chalice new-project helloworld"
   ]
  },
  {
   "cell_type": "code",
   "execution_count": 2,
   "metadata": {},
   "outputs": [
    {
     "name": "stdout",
     "output_type": "stream",
     "text": [
      "/Users/jbloom/Classes/python-seminar/DataFiles_and_Notebooks/09_Web/helloworld\n"
     ]
    }
   ],
   "source": [
    "cd helloworld"
   ]
  },
  {
   "cell_type": "code",
   "execution_count": 4,
   "metadata": {},
   "outputs": [
    {
     "name": "stdout",
     "output_type": "stream",
     "text": [
      "Overwriting app.py\n"
     ]
    }
   ],
   "source": [
    "%%writefile app.py\n",
    "\n",
    "from chalice import Chalice\n",
    "\n",
    "app = Chalice(app_name=\"helloworld\")\n",
    "\n",
    "@app.route(\"/\")\n",
    "def index():\n",
    "    return {\"hello\": \"world, for real\"}"
   ]
  },
  {
   "cell_type": "markdown",
   "metadata": {},
   "source": [
    "Deploy. You'll need to have set up your (free) [AWS credentials](https://aws.amazon.com/free/)."
   ]
  },
  {
   "cell_type": "code",
   "execution_count": 5,
   "metadata": {},
   "outputs": [
    {
     "name": "stdout",
     "output_type": "stream",
     "text": [
      "Creating deployment package.\n",
      "Creating IAM role: helloworld-dev\n",
      "Creating lambda function: helloworld-dev\n",
      "Creating Rest API\n",
      "Resources deployed:\n",
      "  - Lambda ARN: arn:aws:lambda:us-west-1:053013463530:function:helloworld-dev\n",
      "  - Rest API URL: https://5ogwkenwug.execute-api.us-west-1.amazonaws.com/api/\n"
     ]
    }
   ],
   "source": [
    "!AWS_DEFAULT_REGION=us-west-1 chalice deploy"
   ]
  },
  {
   "cell_type": "code",
   "execution_count": 6,
   "metadata": {},
   "outputs": [
    {
     "name": "stdout",
     "output_type": "stream",
     "text": [
      "Deleting Rest API: 5ogwkenwug\n",
      "Deleting function: arn:aws:lambda:us-west-1:053013463530:function:helloworld-dev\n",
      "Deleting IAM role: helloworld-dev\n"
     ]
    }
   ],
   "source": [
    "!AWS_DEFAULT_REGION=us-west-1 chalice delete"
   ]
  },
  {
   "cell_type": "markdown",
   "metadata": {},
   "source": [
    "# Containerized Application"
   ]
  },
  {
   "cell_type": "markdown",
   "metadata": {},
   "source": [
    "If you want to package your code AND other non-python files/executables, you need to ship a description of what it takes to get a system to a state with all the dependencies.\n",
    "\n",
    "Docker is a way to specify the precise steps taken to install what you need to run your program. See http://containertutorials.com/index.html"
   ]
  },
  {
   "cell_type": "code",
   "execution_count": 7,
   "metadata": {},
   "outputs": [
    {
     "name": "stdout",
     "output_type": "stream",
     "text": [
      "\r\n",
      "Usage:\tdocker COMMAND\r\n",
      "\r\n",
      "A self-sufficient runtime for containers\r\n",
      "\r\n",
      "Options:\r\n",
      "      --config string      Location of client config files (default\r\n",
      "                           \"/Users/jbloom/.docker\")\r\n",
      "  -D, --debug              Enable debug mode\r\n",
      "  -H, --host list          Daemon socket(s) to connect to\r\n",
      "  -l, --log-level string   Set the logging level\r\n",
      "                           (\"debug\"|\"info\"|\"warn\"|\"error\"|\"fatal\")\r\n",
      "                           (default \"info\")\r\n",
      "      --tls                Use TLS; implied by --tlsverify\r\n",
      "      --tlscacert string   Trust certs signed only by this CA (default\r\n",
      "                           \"/Users/jbloom/.docker/ca.pem\")\r\n",
      "      --tlscert string     Path to TLS certificate file (default\r\n",
      "                           \"/Users/jbloom/.docker/cert.pem\")\r\n",
      "      --tlskey string      Path to TLS key file (default\r\n",
      "                           \"/Users/jbloom/.docker/key.pem\")\r\n",
      "      --tlsverify          Use TLS and verify the remote\r\n",
      "  -v, --version            Print version information and quit\r\n",
      "\r\n",
      "Management Commands:\r\n",
      "  checkpoint  Manage checkpoints\r\n",
      "  config      Manage Docker configs\r\n",
      "  container   Manage containers\r\n",
      "  image       Manage images\r\n",
      "  network     Manage networks\r\n",
      "  node        Manage Swarm nodes\r\n",
      "  plugin      Manage plugins\r\n",
      "  secret      Manage Docker secrets\r\n",
      "  service     Manage services\r\n",
      "  swarm       Manage Swarm\r\n",
      "  system      Manage Docker\r\n",
      "  trust       Manage trust on Docker images\r\n",
      "  volume      Manage volumes\r\n",
      "\r\n",
      "Commands:\r\n",
      "  attach      Attach local standard input, output, and error streams to a running container\r\n",
      "  build       Build an image from a Dockerfile\r\n",
      "  commit      Create a new image from a container's changes\r\n",
      "  cp          Copy files/folders between a container and the local filesystem\r\n",
      "  create      Create a new container\r\n",
      "  deploy      Deploy a new stack or update an existing stack\r\n",
      "  diff        Inspect changes to files or directories on a container's filesystem\r\n",
      "  events      Get real time events from the server\r\n",
      "  exec        Run a command in a running container\r\n",
      "  export      Export a container's filesystem as a tar archive\r\n",
      "  history     Show the history of an image\r\n",
      "  images      List images\r\n",
      "  import      Import the contents from a tarball to create a filesystem image\r\n",
      "  info        Display system-wide information\r\n",
      "  inspect     Return low-level information on Docker objects\r\n",
      "  kill        Kill one or more running containers\r\n",
      "  load        Load an image from a tar archive or STDIN\r\n",
      "  login       Log in to a Docker registry\r\n",
      "  logout      Log out from a Docker registry\r\n",
      "  logs        Fetch the logs of a container\r\n",
      "  pause       Pause all processes within one or more containers\r\n",
      "  port        List port mappings or a specific mapping for the container\r\n",
      "  ps          List containers\r\n",
      "  pull        Pull an image or a repository from a registry\r\n",
      "  push        Push an image or a repository to a registry\r\n",
      "  rename      Rename a container\r\n",
      "  restart     Restart one or more containers\r\n",
      "  rm          Remove one or more containers\r\n",
      "  rmi         Remove one or more images\r\n",
      "  run         Run a command in a new container\r\n",
      "  save        Save one or more images to a tar archive (streamed to STDOUT by default)\r\n",
      "  search      Search the Docker Hub for images\r\n",
      "  start       Start one or more stopped containers\r\n",
      "  stats       Display a live stream of container(s) resource usage statistics\r\n",
      "  stop        Stop one or more running containers\r\n",
      "  tag         Create a tag TARGET_IMAGE that refers to SOURCE_IMAGE\r\n",
      "  top         Display the running processes of a container\r\n",
      "  unpause     Unpause all processes within one or more containers\r\n",
      "  update      Update configuration of one or more containers\r\n",
      "  version     Show the Docker version information\r\n",
      "  wait        Block until one or more containers stop, then print their exit codes\r\n",
      "\r\n",
      "Run 'docker COMMAND --help' for more information on a command.\r\n"
     ]
    }
   ],
   "source": [
    "!docker --help"
   ]
  },
  {
   "cell_type": "code",
   "execution_count": null,
   "metadata": {},
   "outputs": [],
   "source": [
    "!git clone https://github.com/profjsb/pydocker.git"
   ]
  },
  {
   "cell_type": "code",
   "execution_count": null,
   "metadata": {},
   "outputs": [],
   "source": [
    "cd pydocker/"
   ]
  },
  {
   "cell_type": "code",
   "execution_count": null,
   "metadata": {},
   "outputs": [],
   "source": [
    "!ls"
   ]
  },
  {
   "cell_type": "code",
   "execution_count": null,
   "metadata": {},
   "outputs": [],
   "source": [
    "!cat Dockerfile"
   ]
  },
  {
   "cell_type": "code",
   "execution_count": null,
   "metadata": {},
   "outputs": [],
   "source": [
    "!cat app.py"
   ]
  },
  {
   "cell_type": "code",
   "execution_count": null,
   "metadata": {},
   "outputs": [],
   "source": [
    "!cat Makefile"
   ]
  },
  {
   "cell_type": "code",
   "execution_count": null,
   "metadata": {},
   "outputs": [],
   "source": [
    "!make build"
   ]
  },
  {
   "cell_type": "code",
   "execution_count": null,
   "metadata": {},
   "outputs": [],
   "source": [
    "!make run"
   ]
  },
  {
   "cell_type": "markdown",
   "metadata": {},
   "source": [
    "Now, check out http://localhost:5000"
   ]
  },
  {
   "cell_type": "code",
   "execution_count": null,
   "metadata": {},
   "outputs": [],
   "source": [
    "!docker ps"
   ]
  },
  {
   "cell_type": "code",
   "execution_count": null,
   "metadata": {},
   "outputs": [],
   "source": [
    "!docker logs mydocker-default"
   ]
  },
  {
   "cell_type": "code",
   "execution_count": null,
   "metadata": {},
   "outputs": [],
   "source": [
    "!docker rm -f mydocker-default"
   ]
  },
  {
   "cell_type": "code",
   "execution_count": null,
   "metadata": {},
   "outputs": [],
   "source": [
    "!docker login"
   ]
  },
  {
   "cell_type": "code",
   "execution_count": null,
   "metadata": {},
   "outputs": [],
   "source": [
    "!docker push pyseminar/pydocker:latest"
   ]
  },
  {
   "cell_type": "markdown",
   "metadata": {},
   "source": [
    "Now we can deploy this anywhere where Docker is run in the cloud. AWS Elastic Container Service makes this pretty easy: https://us-west-1.console.aws.amazon.com/ecs/home?region=us-west-1#/getStarted\n"
   ]
  },
  {
   "cell_type": "code",
   "execution_count": null,
   "metadata": {},
   "outputs": [],
   "source": []
  }
 ],
 "metadata": {
  "kernelspec": {
   "display_name": "Python 3",
   "language": "python",
   "name": "python3"
  },
  "language_info": {
   "codemirror_mode": {
    "name": "ipython",
    "version": 3
   },
   "file_extension": ".py",
   "mimetype": "text/x-python",
   "name": "python",
   "nbconvert_exporter": "python",
   "pygments_lexer": "ipython3",
   "version": "3.6.4"
  }
 },
 "nbformat": 4,
 "nbformat_minor": 2
}
